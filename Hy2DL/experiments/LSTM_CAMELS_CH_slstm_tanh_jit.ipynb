{
 "cells": [
  {
   "cell_type": "markdown",
   "metadata": {},
   "source": [
    "## Notebook to create a regional rainfall-runoff model using an LSTM network for CAMELS CH Dataset"
   ]
  },
  {
   "cell_type": "markdown",
   "metadata": {},
   "source": [
    "*xLSTM Architecture with tanh activation on ct/nt;*\n",
    "*Only 229 catchments belonging to CH from CAMELS CH*"
   ]
  },
  {
   "cell_type": "markdown",
   "metadata": {},
   "source": [
    "**Description**\n",
    "\n",
    "The following notebook contains the code to create, train, validate and test a rainfall-runoff model using a LSTM \n",
    "network architecture. The code allows for the creation of single-basin models, but it is conceptualized to create \n",
    "regional models. The code is intended as an intial introduction to the topic, in which we prioritized interpretability\n",
    "over modularity. The model generated in this code makes use of the CAMELS CH Datset [2]\n",
    "\n",
    "The logic of the code is heavily based on [Neural Hydrology](https://doi.org/10.21105/joss.04050)[1]. For a more \n",
    "flexible, robust and modular implementation of deep learning method in hydrological modeling we advice the use of Neural \n",
    "Hydrology. \n",
    "\n",
    "**Authors:**\n",
    "- Eduardo Acuna Espinoza (eduardo.espinoza@kit.edu)\n",
    "- Ralf Loritz\n",
    "- Manuel Álvarez Chaves\n",
    "\n",
    "**Adaptations:**\n",
    "- Sanika Baste (sanika.baste@kit.edu)\n",
    "\n",
    "**References:**\n",
    "\n",
    "[1]: \"F. Kratzert, M. Gauch, G. Nearing and D. Klotz: NeuralHydrology -- A Python library for Deep Learning research in hydrology. Journal of Open Source Software, 7, 4050, doi: 10.21105/joss.04050, 2022\"\n",
    "\n",
    "[2]: Höge, M., Kauzlaric, M., Siber, R., Schönenberger, U., Horton, P., Schwanbeck, J., Floriancic, M. G., Viviroli, D., Wilhelm, S., Sikorska-Senoner, A. E., Addor, N., Brunner, M., Pool, S., Zappa, M., and Fenicia, F.: CAMELS-CH: hydro-meteorological time series and landscape attributes for 331 catchments in hydrologic Switzerland, Earth Syst. Sci. Data, 15, 5755–5784, https://doi.org/10.5194/essd-15-5755-2023, 2023."
   ]
  },
  {
   "cell_type": "code",
   "execution_count": 1,
   "metadata": {},
   "outputs": [],
   "source": [
    "#Import necessary packages\n",
    "import sys\n",
    "import pandas as pd\n",
    "import numpy as np\n",
    "import time\n",
    "import pickle\n",
    "import random\n",
    "import matplotlib.pyplot as plt\n",
    "\n",
    "import torch\n",
    "from torch.utils.data import DataLoader\n",
    "\n",
    "sys.path.append(\"../aux_functions\")\n",
    "sys.path.append(\"../datasetzoo\")\n",
    "sys.path.append(\"../modelzoo\")\n",
    "\n",
    "# Import classes and functions from other files\n",
    "from functions_training import nse_basin_averaged\n",
    "from functions_evaluation import nse\n",
    "from functions_aux import create_folder, set_random_seed, write_report\n",
    "\n",
    "# Import dataset to use\n",
    "from camelsch import CAMELS_CH\n",
    "\n",
    "# Import model\n",
    "from cudalstm import CudaLSTM\n",
    "# from slstmcell import sLSTM\n",
    "\n",
    "# ignoring warnings\n",
    "import warnings\n",
    "warnings.filterwarnings(\"ignore\", category=DeprecationWarning)\n",
    "warnings.filterwarnings(\"ignore\", category=FutureWarning)"
   ]
  },
  {
   "cell_type": "markdown",
   "metadata": {},
   "source": [
    "Part 1. Initialize information"
   ]
  },
  {
   "cell_type": "code",
   "execution_count": 2,
   "metadata": {},
   "outputs": [],
   "source": [
    "# Define experiment name\n",
    "experiment_name = \"LSTM_CAMELS_CH_slstm_tanh_jit\"\n",
    "\n",
    "# paths to access the information\n",
    "path_entities = \"../../data/basin_id/basins_camels_ch_229_onlyCH.txt\"\n",
    "path_data = \"../../data/CAMELS_CH\"\n",
    "\n",
    "# dynamic forcings and target\n",
    "dynamic_input = ['precipitation(mm/d)', 'temperature_min(degC)', 'temperature_max(degC)', 'rel_sun_dur(%)', 'swe(mm)']\n",
    "target = ['discharge_spec(mm/d)']\n",
    "\n",
    "# static attributes that will be used\n",
    "static_input = ['area',\n",
    "                'elev_mean',\n",
    "                'slope_mean',\n",
    "                'sand_perc',\n",
    "                'silt_perc',\n",
    "                'clay_perc',\n",
    "                'porosity',\n",
    "                'conductivity',\n",
    "                'glac_area',\n",
    "                'dwood_perc',\n",
    "                'ewood_perc',\n",
    "                'crop_perc',\n",
    "                'urban_perc',\n",
    "                'reservoir_cap',\n",
    "                'p_mean',\n",
    "                'pet_mean',\n",
    "                'p_seasonality',\n",
    "                'frac_snow',\n",
    "                'high_prec_freq',\n",
    "                'low_prec_freq',\n",
    "                'high_prec_dur',\n",
    "                'low_prec_dur']\n",
    "\n",
    "# time periods\n",
    "training_period = ['1995-10-01','2005-09-30']\n",
    "validation_period = ['2005-10-01','2010-09-30']\n",
    "testing_period = ['2010-10-01','2015-09-30']\n",
    "\n",
    "model_hyper_parameters = {\n",
    "    \"input_size_lstm\": len(dynamic_input) + len(static_input),\n",
    "    \"no_of_layers\":1,  \n",
    "    \"seq_length\": 365,\n",
    "    \"hidden_size\": 64,\n",
    "    \"batch_size_training\":256,\n",
    "    \"batch_size_validation\":512,\n",
    "    \"batch_size_testing\":(pd.to_datetime(testing_period[1])-pd.to_datetime(testing_period[0])).days+1,\n",
    "    \"no_of_epochs\": 30,             \n",
    "    \"drop_out_rate\": 0.4, \n",
    "    \"learning_rate\": 0.005,\n",
    "    \"adapt_learning_rate_epoch\": 5,\n",
    "    \"adapt_gamma_learning_rate\": 0.5,\n",
    "    \"set_forget_gate\":3,\n",
    "    \"validate_every\": 1,\n",
    "    \"validate_n_random_basins\": -1\n",
    "    }\n",
    "\n",
    "# device to train the model\n",
    "running_device = \"gpu\" #cpu or gpu\n",
    "\n",
    "# define random seed\n",
    "seed = 17\n",
    "\n",
    "# colorblind friendly palette for plotting\n",
    "color_palette = {\"observed\": \"#1f78b4\",\"simulated\": \"#ff7f00\"}"
   ]
  },
  {
   "cell_type": "code",
   "execution_count": 3,
   "metadata": {},
   "outputs": [
    {
     "name": "stdout",
     "output_type": "stream",
     "text": [
      "Folder '../results/LSTM_CAMELS_CH_slstm_tanh_jit' already exists.\n"
     ]
    }
   ],
   "source": [
    "# Create folder to store the results\n",
    "path_save_folder = \"../results/\"+experiment_name\n",
    "create_folder(folder_path=path_save_folder)"
   ]
  },
  {
   "cell_type": "code",
   "execution_count": 4,
   "metadata": {},
   "outputs": [
    {
     "name": "stdout",
     "output_type": "stream",
     "text": [
      "Tesla V100-SXM2-32GB\n"
     ]
    }
   ],
   "source": [
    "# check if model will be run in gpu or cpu and define device\n",
    "if running_device == \"gpu\":\n",
    "    print(torch.cuda.get_device_name(0))\n",
    "    device= f'cuda:0'\n",
    "elif running_device == \"cpu\":\n",
    "    device = \"cpu\""
   ]
  },
  {
   "cell_type": "markdown",
   "metadata": {},
   "source": [
    "Part 2. Create dataset and dataloader for training"
   ]
  },
  {
   "cell_type": "code",
   "execution_count": 5,
   "metadata": {
    "jupyter": {
     "source_hidden": true
    }
   },
   "outputs": [],
   "source": [
    "# Dataset training\n",
    "training_dataset = CAMELS_CH(dynamic_input= dynamic_input,\n",
    "                             target= target, \n",
    "                             sequence_length= model_hyper_parameters[\"seq_length\"],\n",
    "                             time_period= training_period,\n",
    "                             path_data= path_data,\n",
    "                             path_entities= path_entities,\n",
    "                             static_input= static_input,\n",
    "                             check_NaN= True)\n",
    "\n",
    "training_dataset.calculate_basin_std()\n",
    "training_dataset.calculate_global_statistics(path_save_scaler=path_save_folder)\n",
    "training_dataset.standardize_data()"
   ]
  },
  {
   "cell_type": "code",
   "execution_count": 6,
   "metadata": {
    "jupyter": {
     "source_hidden": true
    }
   },
   "outputs": [
    {
     "name": "stdout",
     "output_type": "stream",
     "text": [
      "Batches in training:  1382\n",
      "x_lstm: torch.Size([256, 365, 27]) | y_obs: torch.Size([256, 1, 1]) | basin_std: torch.Size([256, 1, 1])\n"
     ]
    }
   ],
   "source": [
    "# Dataloader training\n",
    "train_loader = DataLoader(dataset = training_dataset, \n",
    "                          batch_size = model_hyper_parameters[\"batch_size_training\"],\n",
    "                          shuffle = True,\n",
    "                          drop_last = True)\n",
    "\n",
    "print(\"Batches in training: \", len(train_loader))\n",
    "sample = next(iter(train_loader))\n",
    "print(f'x_lstm: {sample[\"x_lstm\"].shape} | y_obs: {sample[\"y_obs\"].shape} | basin_std: {sample[\"basin_std\"].shape}')"
   ]
  },
  {
   "cell_type": "markdown",
   "metadata": {},
   "source": [
    "Part 3. Create dataset for validation"
   ]
  },
  {
   "cell_type": "code",
   "execution_count": 7,
   "metadata": {
    "jupyter": {
     "source_hidden": true
    }
   },
   "outputs": [],
   "source": [
    "# We will create an individual dataset per basin. This will give us more flexibility\n",
    "entities_ids = np.loadtxt(path_entities, dtype=\"str\").tolist()\n",
    "validation_dataset = {}\n",
    "\n",
    "for entity in entities_ids:\n",
    "    dataset = CAMELS_CH(dynamic_input= dynamic_input,\n",
    "                        target= target, \n",
    "                        sequence_length= model_hyper_parameters[\"seq_length\"],\n",
    "                        time_period= validation_period,\n",
    "                        path_data= path_data,\n",
    "                        entity= entity,\n",
    "                        static_input= static_input,\n",
    "                        check_NaN= False)\n",
    "    \n",
    "    dataset.scaler = training_dataset.scaler\n",
    "    dataset.standardize_data(standardize_output=False)\n",
    "    validation_dataset[entity]= dataset"
   ]
  },
  {
   "cell_type": "markdown",
   "metadata": {},
   "source": [
    "Part 4.0: sLSTM class definition with jit"
   ]
  },
  {
   "cell_type": "code",
   "execution_count": 5,
   "metadata": {},
   "outputs": [],
   "source": [
    "set_random_seed(seed=seed)"
   ]
  },
  {
   "cell_type": "code",
   "execution_count": 6,
   "metadata": {
    "scrolled": true
   },
   "outputs": [],
   "source": [
    "import torch\n",
    "import torch.nn as nn\n",
    "from collections import defaultdict\n",
    "from typing import Optional\n",
    "\n",
    "class sLSTMCell(nn.Module):\n",
    "    def __init__(self, input_size: int, hidden_size: int):\n",
    "        super(sLSTMCell, self).__init__()\n",
    "        self.input_size = input_size\n",
    "        self.hidden_size = hidden_size\n",
    "\n",
    "        # Parameters for input, forget, and output gates\n",
    "        self.w_i = nn.Parameter(torch.FloatTensor(hidden_size, input_size))\n",
    "        self.w_f = nn.Parameter(torch.FloatTensor(hidden_size, input_size))\n",
    "        self.w_o = nn.Parameter(torch.FloatTensor(hidden_size, input_size))\n",
    "        self.w_z = nn.Parameter(torch.FloatTensor(hidden_size, input_size))\n",
    "\n",
    "        self.r_i = nn.Parameter(\n",
    "            torch.FloatTensor(hidden_size, hidden_size)\n",
    "        )\n",
    "        self.r_f = nn.Parameter(\n",
    "            torch.FloatTensor(hidden_size, hidden_size)\n",
    "        )\n",
    "        self.r_o = nn.Parameter(\n",
    "            torch.FloatTensor(hidden_size, hidden_size)\n",
    "        )\n",
    "        self.r_z = nn.Parameter(\n",
    "            torch.FloatTensor(hidden_size, hidden_size)\n",
    "        )\n",
    "\n",
    "        self.b_i = nn.Parameter(torch.FloatTensor(self.r_i.shape[0]))\n",
    "        self.b_f = nn.Parameter(torch.FloatTensor(self.r_f.shape[0]))\n",
    "        self.b_o = nn.Parameter(torch.FloatTensor(self.r_o.shape[0]))\n",
    "        self.b_z = nn.Parameter(torch.FloatTensor(self.r_z.shape[0]))\n",
    "\n",
    "        # Initialize parameters\n",
    "        self.reset_parameters()\n",
    "\n",
    "        # some activations\n",
    "        self.softplus = nn.Softplus\n",
    "\n",
    "    def reset_parameters(self):\n",
    "        nn.init.xavier_uniform_(self.w_i)\n",
    "        nn.init.xavier_uniform_(self.w_f)\n",
    "        nn.init.xavier_uniform_(self.w_o)\n",
    "        nn.init.xavier_uniform_(self.w_z)\n",
    "\n",
    "        nn.init.orthogonal_(self.r_i)\n",
    "        nn.init.orthogonal_(self.r_f)\n",
    "        nn.init.orthogonal_(self.r_o)\n",
    "        nn.init.orthogonal_(self.r_z)\n",
    "\n",
    "        nn.init.zeros_(self.b_i)\n",
    "        nn.init.zeros_(self.b_f)\n",
    "        nn.init.zeros_(self.b_o)\n",
    "        nn.init.zeros_(self.b_z)\n",
    "\n",
    "    def forward(self,\n",
    "                x,\n",
    "                h_prev: torch.Tensor,\n",
    "                c_prev: torch.Tensor,\n",
    "                n_prev: torch.Tensor,\n",
    "                m_prev: torch.Tensor):\n",
    "\n",
    "        i_tilda = (\n",
    "            torch.matmul(x, self.w_i.T)\n",
    "            + torch.matmul(h_prev, self.r_i.T)\n",
    "            + self.b_i\n",
    "        )\n",
    "        f_tilda = (\n",
    "            torch.matmul(x, self.w_f.T)\n",
    "            + torch.matmul(h_prev, self.r_f.T)\n",
    "            + self.b_f\n",
    "        )\n",
    "        o_tilda = (\n",
    "            torch.matmul(x, self.w_o.T)\n",
    "            + torch.matmul(h_prev, self.r_o.T)\n",
    "            + self.b_o\n",
    "        )\n",
    "        z_tilda = (\n",
    "            torch.matmul(x, self.w_z.T)\n",
    "            + torch.matmul(h_prev, self.r_z.T)\n",
    "            + self.b_z\n",
    "        )\n",
    "        \n",
    "        i_t = torch.exp(i_tilda)\n",
    "        f_t = torch.exp(\n",
    "            f_tilda\n",
    "        )  # Chosen exponential activation\n",
    "\n",
    "        # Stabilizer state update\n",
    "        m_t = torch.max(torch.log(f_t) + m_prev, torch.log(i_t))\n",
    "\n",
    "        # Stabilized gates\n",
    "        i_prime = torch.exp(torch.log(i_t) - m_t) #i_t_prime\n",
    "        f_prime = torch.exp(torch.log(f_t) + m_prev - m_t) #f_t_prime\n",
    "\n",
    "        c_t = f_prime * c_prev + i_prime * torch.tanh(z_tilda)\n",
    "        n_t = f_prime * n_prev + i_prime\n",
    "        \n",
    "        c_hat = c_t / n_t\n",
    "        h_t = torch.sigmoid(o_tilda) * torch.tanh(c_hat)\n",
    "\n",
    "        # return h_t, (h_t, c_t, n_t, m_t)\n",
    "        return {'h_t': h_t, 'c_t': c_t, 'n_t': n_t, 'm_t': m_t,\n",
    "                 'i_tilda': i_tilda, 'f_tilda': f_tilda, 'o_tilda': o_tilda, 'z_tilda': z_tilda,\n",
    "                 'i_prime': i_prime, 'f_prime': f_prime}\n",
    "\n",
    "scripted_sLSTMCell = torch.jit.script(sLSTMCell(input_size=torch.tensor(model_hyper_parameters['input_size_lstm']),\n",
    "                                        hidden_size=torch.tensor(model_hyper_parameters['hidden_size'])))\n",
    "# print(scripted_sLSTMCell.code)\n",
    "\n",
    "class sLSTM(nn.Module):\n",
    "    def __init__(self, input_size: int, hidden_size:int, num_layers: int, drop_out_rate: int):\n",
    "        super(sLSTM, self).__init__()\n",
    "        # self.cell = sLSTMCell(input_size, hidden_size)\n",
    "        self.cell = scripted_sLSTMCell\n",
    "        self.dropout = nn.Dropout(drop_out_rate)\n",
    "        self.linear = nn.Linear(hidden_size, 1)\n",
    "\n",
    "    def forward(self, x:torch.Tensor,\n",
    "                        h_prev:Optional[torch.Tensor]=None,\n",
    "                        c_prev:Optional[torch.Tensor]=None,\n",
    "                        n_prev:Optional[torch.Tensor]=None,\n",
    "                        m_prev:Optional[torch.Tensor]=None):\n",
    "\n",
    "        batch_size, seq_len, _ = x.size()\n",
    "        \n",
    "        if h_prev is None:\n",
    "            h_prev = torch.zeros(batch_size, self.cell.hidden_size).to(x.device)\n",
    "        if c_prev is None:\n",
    "            c_prev = torch.zeros(batch_size, self.cell.hidden_size).to(x.device)\n",
    "        if n_prev is None:\n",
    "            n_prev = torch.zeros(batch_size, self.cell.hidden_size).to(x.device)\n",
    "        if m_prev is None:\n",
    "            m_prev = torch.zeros(batch_size, self.cell.hidden_size).to(x.device)\n",
    "    \n",
    "        current_states = (h_prev, c_prev, n_prev, m_prev)\n",
    "        \n",
    "        output = {'h_t': [], 'c_t': [], 'n_t': [], 'm_t': [],\n",
    "                 'i_tilda': [], 'f_tilda': [], 'o_tilda': [], 'z_tilda': [],\n",
    "                 'i_prime': [], 'f_prime': []}\n",
    "        \n",
    "        for t in range(seq_len):\n",
    "            x_t = x[:, t, :]\n",
    "            h_prev, c_prev, n_prev, m_prev = current_states\n",
    "\n",
    "            cell_output = self.cell(x_t, h_prev=h_prev, c_prev=c_prev, n_prev=n_prev, m_prev=m_prev)\n",
    "            \n",
    "            current_states = (cell_output['h_t'], cell_output['c_t'], cell_output['n_t'], cell_output['m_t'])\n",
    "            \n",
    "            for key, cell_out in cell_output.items():\n",
    "                output[key].append(cell_out)\n",
    "        \n",
    "        pred = {key: torch.stack(val, 1) for key, val in output.items()}\n",
    "        pred.update({\"y_hat\": self.linear(self.dropout(pred['h_t'][:,-1, :]))})\n",
    "        \n",
    "        return pred\n",
    "\n",
    "scripted_sLSTM = torch.jit.script(sLSTM(input_size=model_hyper_parameters['input_size_lstm'],\n",
    "                                        hidden_size=model_hyper_parameters['hidden_size'],\n",
    "                                        num_layers=model_hyper_parameters['no_of_layers'],\n",
    "                                        drop_out_rate=model_hyper_parameters['drop_out_rate']))\n",
    "# print(scripted_sLSTM.code)"
   ]
  },
  {
   "cell_type": "markdown",
   "metadata": {},
   "source": [
    "Part 4. Train LSTM"
   ]
  },
  {
   "cell_type": "code",
   "execution_count": null,
   "metadata": {
    "jupyter": {
     "source_hidden": true
    }
   },
   "outputs": [
    {
     "name": "stderr",
     "output_type": "stream",
     "text": [
      "/pfs/data5/home/kit/iwu/si3685/Hy2DL/Hy2DL/experiments/../aux_functions/functions_evaluation.py:49: RuntimeWarning: All-NaN slice encountered\n",
      "  return np.nanmedian(loss) if average else np.asarray(loss)\n"
     ]
    },
    {
     "name": "stdout",
     "output_type": "stream",
     "text": [
      "Epoch: 24 | Loss training: nan | NSE validation: nan | Epoch time: 745.5  s | LR:0.00125 \n"
     ]
    },
    {
     "name": "stderr",
     "output_type": "stream",
     "text": [
      "/pfs/data5/home/kit/iwu/si3685/Hy2DL/Hy2DL/experiments/../aux_functions/functions_evaluation.py:49: RuntimeWarning: All-NaN slice encountered\n",
      "  return np.nanmedian(loss) if average else np.asarray(loss)\n"
     ]
    },
    {
     "name": "stdout",
     "output_type": "stream",
     "text": [
      "Epoch: 25 | Loss training: nan | NSE validation: nan | Epoch time: 728.2  s | LR:0.00125 \n"
     ]
    },
    {
     "name": "stderr",
     "output_type": "stream",
     "text": [
      "/pfs/data5/home/kit/iwu/si3685/Hy2DL/Hy2DL/experiments/../aux_functions/functions_evaluation.py:49: RuntimeWarning: All-NaN slice encountered\n",
      "  return np.nanmedian(loss) if average else np.asarray(loss)\n"
     ]
    },
    {
     "name": "stdout",
     "output_type": "stream",
     "text": [
      "Epoch: 26 | Loss training: nan | NSE validation: nan | Epoch time: 732.5  s | LR:0.00125 \n"
     ]
    }
   ],
   "source": [
    "# construct model\n",
    "lstm_model = scripted_sLSTM.to(device)\n",
    "\n",
    "# in case of training a previously trained model further\n",
    "path_save_folder__ = \"../results/LSTM_CAMELS_CH_slstm_tanh_jit\"\n",
    "lstm_model.load_state_dict(torch.load(path_save_folder__ + \"/epoch_23\", map_location=device))\n",
    "\n",
    "# optimizer\n",
    "optimizer = torch.optim.Adam(lstm_model.parameters(),\n",
    "                             lr=model_hyper_parameters[\"learning_rate\"])\n",
    "    \n",
    "# define learning rate scheduler\n",
    "scheduler = torch.optim.lr_scheduler.StepLR(optimizer,\n",
    "                                            step_size=model_hyper_parameters[\"adapt_learning_rate_epoch\"],\n",
    "                                            gamma=model_hyper_parameters[\"adapt_gamma_learning_rate\"])\n",
    "# scheduler = torch.optim.lr_scheduler.MultiStepLR(optimizer, milestones=[6, 11], gamma=0.5)\n",
    "# scheduler =  torch.optim.lr_scheduler.ReduceLROnPlateau(optimizer, mode='max', factor=0.5, patience=0,\n",
    "#                                                        threshold=0.01, threshold_mode='abs', cooldown=0,\n",
    "#                                                        min_lr=0, eps=1e-08, verbose='deprecated')\n",
    "\n",
    "# set forget gate to 3 to ensure that the model is capable to learn long term dependencies\n",
    "lstm_model.cell.b_f.data[:]=model_hyper_parameters[\"set_forget_gate\"]\n",
    "\n",
    "training_time = time.time()\n",
    "# Loop through the different epochs\n",
    "for epoch in range(24, model_hyper_parameters[\"no_of_epochs\"]+1):\n",
    "    \n",
    "    epoch_start_time = time.time()\n",
    "    total_loss = []\n",
    "    # Training -------------------------------------------------------------------------------------------------------\n",
    "    lstm_model.train()\n",
    "    for sample in train_loader: \n",
    "        optimizer.zero_grad() # sets gradients of weigths and bias to zero\n",
    "        pred  = lstm_model(sample[\"x_lstm\"].to(device)) # forward call\n",
    "\n",
    "        # bla1=torch.isnan(sample[\"x_lstm\"]).any()\n",
    "        # bla2=torch.isnan(pred[\"y_hat\"]).any()\n",
    "        # bla3=torch.isnan(sample[\"y_obs\"]).any()\n",
    "        # bla4=torch.isnan(sample[\"basin_std\"]).any()\n",
    "        # print(f'{bla1}|{bla2}|{bla3}|{bla4}')\n",
    "        \n",
    "        loss = nse_basin_averaged(y_sim=pred[\"y_hat\"], \n",
    "                                  y_obs=sample[\"y_obs\"].to(device), \n",
    "                                  per_basin_target_std=sample[\"basin_std\"].to(device))\n",
    "        # print(loss)\n",
    "\n",
    "        loss.backward() # backpropagates\n",
    "        torch.nn.utils.clip_grad_norm_(lstm_model.parameters(), 1) #clip gradients\n",
    "        optimizer.step() #update weights\n",
    "        total_loss.append(loss.item())\n",
    "        \n",
    "        # remove from cuda\n",
    "        del sample[\"x_lstm\"], sample[\"y_obs\"], sample[\"basin_std\"], pred\n",
    "        torch.cuda.empty_cache()\n",
    "        \n",
    "    #training report  \n",
    "    report = f'Epoch: {epoch:<2} | Loss training: {\"%.3f \"% (np.mean(total_loss))}'\n",
    "    \n",
    "    # Validation -----------------------------------------------------------------------------------------------------\n",
    "    if epoch % model_hyper_parameters[\"validate_every\"] == 0:\n",
    "        lstm_model.eval()\n",
    "        validation_results = {}\n",
    "        with torch.no_grad():\n",
    "            # If we define validate_n_random_basins as 0 or negative, we take all the basins\n",
    "            if model_hyper_parameters[\"validate_n_random_basins\"] <= 0:\n",
    "                validation_basin_ids = validation_dataset.keys()\n",
    "            else:\n",
    "                keys = list(validation_dataset.keys())\n",
    "                validation_basin_ids = random.sample(keys, model_hyper_parameters[\"validate_n_random_basins\"])\n",
    "            \n",
    "            # go through each basin that will be used for validation\n",
    "            for basin in validation_basin_ids:\n",
    "                loader = DataLoader(dataset=validation_dataset[basin], \n",
    "                                    batch_size=model_hyper_parameters[\"batch_size_validation\"], \n",
    "                                    shuffle=False, \n",
    "                                    drop_last = False)\n",
    "                \n",
    "                df_ts = pd.DataFrame()\n",
    "                for sample in loader:\n",
    "                    pred  = lstm_model(sample[\"x_lstm\"].to(device)) \n",
    "                    # backtransformed information\n",
    "                    y_sim = pred[\"y_hat\"]* validation_dataset[basin].scaler[\"y_std\"].to(device) +\\\n",
    "                        validation_dataset[basin].scaler[\"y_mean\"].to(device)\n",
    "\n",
    "                    # join results in a dataframe and store them in a dictionary (is easier to plot later)\n",
    "                    df = pd.DataFrame({\"y_obs\": sample[\"y_obs\"].flatten().cpu().detach(), \n",
    "                                       \"y_sim\": y_sim.flatten().cpu().detach()}, \n",
    "                                      index=pd.to_datetime(sample[\"date\"]))\n",
    "\n",
    "                    df_ts = pd.concat([df_ts, df], axis=0)\n",
    "\n",
    "                    # remove from cuda\n",
    "                    del pred, y_sim\n",
    "                    torch.cuda.empty_cache()       \n",
    "                \n",
    "                validation_results[basin] = df_ts\n",
    "                 \n",
    "            #average loss validation\n",
    "            loss_validation = nse(df_results=validation_results)\n",
    "            report += f'| NSE validation: {\"%.3f \"% (loss_validation)}'\n",
    "\n",
    "    \n",
    "    # save model after every epoch\n",
    "    path_saved_model = path_save_folder+\"/epoch_\" + str(epoch)\n",
    "    torch.save(lstm_model.state_dict(), path_saved_model)\n",
    "            \n",
    "    # print epoch report\n",
    "    report += f'| Epoch time: {\"%.1f \"% (time.time()-epoch_start_time)} s | LR:{\"%.5f \"% (optimizer.param_groups[0][\"lr\"])}'\n",
    "    print(report)\n",
    "    write_report(file_path=path_save_folder+\"/run_progress.txt\", text=report)\n",
    "    # modify learning rate\n",
    "    # scheduler.step()\n",
    "\n",
    "# print final report\n",
    "report = f'Total training time: {\"%.1f \"% (time.time()-training_time)} s'\n",
    "print(report)\n",
    "write_report(file_path=path_save_folder+\"/run_progress.txt\", text=report)   "
   ]
  },
  {
   "cell_type": "markdown",
   "metadata": {},
   "source": [
    "Part 5. Test LSTM"
   ]
  },
  {
   "cell_type": "code",
   "execution_count": 7,
   "metadata": {},
   "outputs": [
    {
     "data": {
      "text/plain": [
       "<All keys matched successfully>"
      ]
     },
     "execution_count": 7,
     "metadata": {},
     "output_type": "execute_result"
    }
   ],
   "source": [
    "# In case I already trained an LSTM I can re-construct the model\n",
    "lstm_model = sLSTM(model_hyper_parameters['input_size_lstm'],\n",
    "                  model_hyper_parameters['hidden_size'],\n",
    "                  model_hyper_parameters['no_of_layers'],\n",
    "                  model_hyper_parameters['drop_out_rate']).to(device)\n",
    "lstm_model.load_state_dict(torch.load(path_save_folder + \"/epoch_22\", map_location=device))"
   ]
  },
  {
   "cell_type": "code",
   "execution_count": 15,
   "metadata": {},
   "outputs": [],
   "source": [
    "# We will create an individual dataset per basin. This will give us more flexibility\n",
    "#path_entities = \"../../data/basin_id/basins_camels_gb_lees.txt\"\n",
    "# entities_ids = np.loadtxt(path_entities, dtype=\"str\").tolist()\n",
    "entities_ids = ['2368']\n",
    "testing_dataset = {}\n",
    "seq_length = model_hyper_parameters[\"seq_length\"]-1\n",
    "idx_to_change = [512, 519]\n",
    "\n",
    "# We can read a previously stored scaler or use the one from the training dataset we just generated\n",
    "#scaler = training_dataset.scaler\n",
    "with open(path_save_folder + \"/scaler.pickle\", \"rb\") as file:\n",
    "    scaler = pickle.load(file)\n",
    "\n",
    "for entity in entities_ids:\n",
    "    dataset = CAMELS_CH(dynamic_input= dynamic_input,\n",
    "                        target= target, \n",
    "                        sequence_length= model_hyper_parameters[\"seq_length\"],\n",
    "                        time_period= testing_period,\n",
    "                        path_data= path_data,\n",
    "                        entity= entity,\n",
    "                        static_input= static_input,\n",
    "                        check_NaN= False)\n",
    "    # artificially adding 300 year return period rainfall for catchment 2109\n",
    "    if entity == '2368':\n",
    "        dataset.sequence_data[entity]['x_d'][seq_length+idx_to_change[0]:seq_length+idx_to_change[1], 0] = 600\n",
    "        \n",
    "    dataset.scaler = scaler\n",
    "    dataset.standardize_data(standardize_output=False)\n",
    "    testing_dataset[entity]= dataset"
   ]
  },
  {
   "cell_type": "code",
   "execution_count": 16,
   "metadata": {
    "scrolled": true
   },
   "outputs": [
    {
     "name": "stdout",
     "output_type": "stream",
     "text": [
      "Folder '../results/LSTM_CAMELS_CH_slstm_tanh_jit/inspect_results_states' already exists.\n",
      "Testing using CustomLSTM complete for 2368\n"
     ]
    }
   ],
   "source": [
    "lstm_model.eval()\n",
    "inspect_results_states = {}\n",
    "inspect_results = {}\n",
    "create_folder(folder_path=path_save_folder+\"/inspect_results_states\")\n",
    "\n",
    "test_n_random_basins = -1\n",
    "if test_n_random_basins <= 0:\n",
    "    test_basin_ids = testing_dataset.keys()\n",
    "else:\n",
    "    keys = list(testing_dataset.keys())\n",
    "    test_basin_ids = random.sample(keys, test_n_random_basins)\n",
    "\n",
    "with torch.no_grad():\n",
    "    for basin in test_basin_ids:\n",
    "        loader = DataLoader(dataset = testing_dataset[basin], \n",
    "                            batch_size = model_hyper_parameters[\"batch_size_testing\"], \n",
    "                            shuffle = False, \n",
    "                            drop_last = False) \n",
    "        \n",
    "        df_ts = pd.DataFrame()\n",
    "        inspectmodel_output = []\n",
    "\n",
    "        for sample in loader:\n",
    "            pred  = lstm_model(sample[\"x_lstm\"].to(device)) \n",
    "            # backtransformed information\n",
    "            y_sim = pred[\"y_hat\"]* dataset.scaler[\"y_std\"].to(device) + dataset.scaler[\"y_mean\"].to(device)\n",
    "\n",
    "            # join results in a dataframe and store them in a dictionary (is easier to plot later)\n",
    "            # _output = {\"h_t\": pred[\"h_t\"].cpu().detach(),\n",
    "            #             \"c_t\": pred[\"c_t\"].cpu().detach(),\n",
    "            #             \"n_t\": pred[\"n_t\"].cpu().detach(),\n",
    "            #             \"m_t\": pred[\"m_t\"].cpu().detach(),\n",
    "            #             \"i_tilda\":pred[\"i_tilda\"].cpu().detach(),\n",
    "            #             \"f_tilda\":pred[\"f_tilda\"].cpu().detach(),\n",
    "            #             \"o_tilda\":pred[\"o_tilda\"].cpu().detach(),\n",
    "            #             \"z_tilda\":pred[\"z_tilda\"].cpu().detach(),\n",
    "            #             \"i_prime\":pred[\"i_prime\"].cpu().detach(),\n",
    "            #             \"f_prime\":pred[\"f_prime\"].cpu().detach(),\n",
    "            #             \"y_hat\":y_sim.cpu().detach()}\n",
    "            # inspectmodel_output.append(_output)\n",
    "\n",
    "            df = pd.DataFrame({\"y_obs\": sample[\"y_obs\"].flatten().cpu().detach(), \n",
    "                               \"y_hat\": pred[\"y_hat\"].flatten().cpu().detach(),\n",
    "                                \"y_sim\": y_sim.flatten().cpu().detach()}, \n",
    "                                index=pd.to_datetime(sample[\"date\"]))\n",
    "            df_ts = pd.concat([df_ts, df], axis=0)\n",
    "\n",
    "            # remove from cuda\n",
    "            del pred, y_sim\n",
    "            torch.cuda.empty_cache()       \n",
    "        \n",
    "        # inspect_results_states[basin] = inspectmodel_output\n",
    "        inspect_results[basin] = df_ts\n",
    "\n",
    "        # Save results as a pickle file\n",
    "        # if basin == 2368:\n",
    "        #     with open(path_save_folder+\"/inspect_results_states/\"+str(basin)+\".pickle\", \"wb\") as f_:\n",
    "        #        pickle.dump(inspectmodel_output, f_)\n",
    "            \n",
    "        del inspectmodel_output, df_ts\n",
    "        print('Testing using CustomLSTM complete for ' + str(basin))\n",
    "\n",
    "# Save results as a pickle file\n",
    "with open(path_save_folder+\"/inspect_results.pickle\", \"wb\") as f:\n",
    "    pickle.dump(inspect_results, f)"
   ]
  },
  {
   "cell_type": "markdown",
   "metadata": {},
   "source": [
    "Part 6. Initial analysis"
   ]
  },
  {
   "cell_type": "code",
   "execution_count": 11,
   "metadata": {},
   "outputs": [],
   "source": [
    "# In case we already ran our model\n",
    "#with open(path_save_folder+\"/test_results.pickle\", \"rb\") as f:\n",
    "#    test_results = pickle.load(f)"
   ]
  },
  {
   "cell_type": "code",
   "execution_count": 12,
   "metadata": {},
   "outputs": [],
   "source": [
    "# Loss testing\n",
    "loss_testing = nse(df_results=inspect_results, average=False)\n",
    "df_NSE = pd.DataFrame(data={\"basin_id\": test_basin_ids, \"NSE\": np.round(loss_testing,3)})\n",
    "df_NSE = df_NSE.set_index(\"basin_id\")\n",
    "df_NSE.to_csv(path_save_folder+\"/NSE_slstm.csv\", index=True, header=True)"
   ]
  },
  {
   "cell_type": "code",
   "execution_count": 13,
   "metadata": {
    "tags": []
   },
   "outputs": [
    {
     "data": {
      "image/png": "[encoded data removed]",
      "text/plain": [
       "<Figure size 640x480 with 1 Axes>"
      ]
     },
     "metadata": {},
     "output_type": "display_data"
    }
   ],
   "source": [
    "# Plot the histogram\n",
    "plt.hist(df_NSE[\"NSE\"], bins=[0, .1, .2, .3, .4, .5, .6, .7, .8, .9, 1])\n",
    "\n",
    "# Add NSE statistics to the plot\n",
    "plt.text(0.01, 0.8, f'Mean: {\"%.3f\" % df_NSE[\"NSE\"].mean():>7}\\nMedian: {\"%.3f\" % df_NSE[\"NSE\"].median():>0}\\nMax: {\"%.2f\" % df_NSE[\"NSE\"].max():>9}\\nMin: {\"%.2f\" % df_NSE[\"NSE\"].min():>10}',\n",
    "         transform=plt.gca().transAxes, bbox=dict(facecolor=\"white\", alpha=0.5))\n",
    "\n",
    "# Format plot\n",
    "plt.rcParams[\"figure.figsize\"] = (20, 5)\n",
    "plt.xlabel(\"NSE\", fontsize=12, fontweight=\"bold\")\n",
    "plt.ylabel(\"Frequency\", fontsize=12, fontweight=\"bold\")\n",
    "plt.title(\"NSE Histogram\", fontsize=16, fontweight=\"bold\")\n",
    "#plt.savefig(save_folder+\"/NSE_LSTM_Histogram.png\", bbox_inches=\"tight\", pad_inches=0)\n",
    "plt.show()"
   ]
  },
  {
   "cell_type": "code",
   "execution_count": 14,
   "metadata": {
    "scrolled": true
   },
   "outputs": [],
   "source": [
    "# calculating NSE for prevah modeled runoff\n",
    "\n",
    "from pathlib import Path\n",
    "entities_ids = np.loadtxt(path_entities, dtype='str').tolist()\n",
    "prevah_results = {}\n",
    "start_date = pd.to_datetime(testing_period[0],format=\"%Y-%m-%d\")\n",
    "end_date = pd.to_datetime(testing_period[1],format=\"%Y-%m-%d\")\n",
    "prevah_q = ['discharge_spec_sim(mm/d)']\n",
    "target = ['discharge_spec(mm/d)']\n",
    "loss_testing_prevah = pd.DataFrame(index=entities_ids, columns=['PREVAH_NSE'])\n",
    "\n",
    "for id in entities_ids:\n",
    "    \n",
    "    # load prevah simulated discharge time series\n",
    "    path_timeseries = Path(path_data) / 'timeseries' / 'simulation_based' / f'CAMELS_CH_sim_based_{id}.csv'\n",
    "    df = pd.read_csv(path_timeseries)\n",
    "    df = df.set_index('date')\n",
    "    df.index = pd.to_datetime(df.index, format=\"%Y-%m-%d\")\n",
    "    y_prevah_sim = df.loc[start_date:end_date, prevah_q]\n",
    "    # print(y_prevah_sim)\n",
    "    \n",
    "    # load observed discharge time series\n",
    "    path_timeseries_obs = Path(path_data) / 'timeseries' / 'observation_based' / f'CAMELS_CH_obs_based_{id}.csv'\n",
    "    df_obs = pd.read_csv(path_timeseries_obs)\n",
    "    df_obs = df_obs.set_index('date')\n",
    "    df_obs.index = pd.to_datetime(df_obs.index, format=\"%Y-%m-%d\")\n",
    "    y_obs = df_obs.loc[start_date:end_date, target]\n",
    "    \n",
    "    # Read values\n",
    "    y_sim = y_prevah_sim.values \n",
    "    y_obs = y_obs.values\n",
    "    \n",
    "    # Mask values based on NaN from y_sim (this occurs in validation and testing if there are NaN in the inputs)\n",
    "    mask_y_sim = ~np.isnan(y_sim)\n",
    "    y_sim = y_sim[mask_y_sim]\n",
    "    y_obs = y_obs[mask_y_sim]\n",
    "\n",
    "    # Mask values based on NaN from y_obs (this occurs in validation and testing if there are NaN in the output)\n",
    "    mask_y_obs = ~np.isnan(y_obs)\n",
    "    y_sim = y_sim[mask_y_obs]\n",
    "    y_obs = y_obs[mask_y_obs]\n",
    "\n",
    "    # Calculate NSE\n",
    "    if y_sim.size > 1 and y_obs.size > 1:\n",
    "        loss_testing_prevah.loc[id]['PREVAH_NSE'] = (1.0 - np.sum((y_sim - y_obs)**2) / np.sum((y_obs - np.mean(y_obs))**2))\n",
    "    else:\n",
    "        loss_testing_prevah.loc[id]['PREVAH_NSE'] = (np.nan)"
   ]
  },
  {
   "cell_type": "code",
   "execution_count": 15,
   "metadata": {},
   "outputs": [],
   "source": [
    "# importing LSTM Cell with tanh activation testing results\n",
    "lstmCell_NSE_path = \"../results/LSTM_CAMELS_CH_customlstm_tanh_229CH/NSE_LSTMCell_tanh.csv\"\n",
    "df_NSE_LSTMCell_tanh = pd.read_csv(lstmCell_NSE_path)\n",
    "\n",
    "# importing GRU Cell testing results\n",
    "gruCell_NSE_path = \"../results/LSTM_CAMELS_CH_gru_229CH/NSE_gruCell.csv\"\n",
    "df_NSE_gruCell = pd.read_csv(gruCell_NSE_path)\n",
    "\n",
    "# importing transformer (with embedding) testing results\n",
    "transformer_NSE_path = \"../results/LSTM_CAMELS_CH_transformers_we_229CH/NSE_transformer_we.csv\"\n",
    "df_NSE_transformer = pd.read_csv(transformer_NSE_path)"
   ]
  },
  {
   "cell_type": "code",
   "execution_count": 29,
   "metadata": {},
   "outputs": [
    {
     "data": {
      "image/png": "[encoded data removed]",
      "text/plain": [
       "<Figure size 500x500 with 1 Axes>"
      ]
     },
     "metadata": {},
     "output_type": "display_data"
    }
   ],
   "source": [
    "# Plot the CDF\n",
    "mask_LSTM = df_NSE['NSE'].notnull()\n",
    "NSE_LSTM = df_NSE['NSE'][mask_LSTM]\n",
    "mask_PREVAH = loss_testing_prevah['PREVAH_NSE'].notnull()\n",
    "NSE_PREVAH = loss_testing_prevah['PREVAH_NSE'][mask_PREVAH]\n",
    "mask_NSELstmCell = df_NSE_LSTMCell_tanh['NSE'].notnull()\n",
    "NSELstmCell = df_NSE_LSTMCell_tanh['NSE'][mask_NSELstmCell]\n",
    "mask_GRUCell = df_NSE_gruCell['NSE'].notnull()\n",
    "NSEGRUCell = df_NSE_gruCell['NSE'][mask_GRUCell]\n",
    "mask_transformer = df_NSE_transformer['NSE'].notnull()\n",
    "NSETransformer = df_NSE_transformer['NSE'][mask_transformer]\n",
    "\n",
    "plt.subplots(figsize=(5, 5))\n",
    "plt.ecdf(NSE_PREVAH.astype(float), label='PREVAH', linewidth=2)\n",
    "plt.ecdf(NSE_LSTM, label='xLSTM Cell with tanh', linewidth=2)\n",
    "plt.ecdf(NSETransformer, label='Transformer', linewidth=2)\n",
    "plt.ecdf(NSEGRUCell, label='GRU Cell')\n",
    "plt.ecdf(NSELstmCell, label='LSTMCell with tanh')\n",
    "plt.plot([0.792, 0.792], [0.0, 0.5], color='b', linestyle='--')\n",
    "plt.plot([0.806, 0.806], [0.0, 0.5], color='b', linestyle='--')\n",
    "plt.plot([0.822, 0.822], [0.0, 0.5], color='b', linestyle='--')\n",
    "plt.plot([0.845, 0.845], [0.0, 0.5], color='b', linestyle='--')\n",
    "plt.plot([0.0, 0.845], [0.5, 0.5], color='b', linestyle='--')\n",
    "#plt.savefig(save_folder+'/NSE_LSTM_cdf.png', bbox_inches='tight', pad_inches=0)\n",
    "\n",
    "# Add NSE statistics to the plot\n",
    "# plt.text(0.05, 0.6, f'LSTM:\\nMean: {\"%.2f\" % df_NSE[\"NSE\"].mean():>7}\\nMedian: {\"%.2f\" % df_NSE[\"NSE\"].median():>0}\\nMax: {\"%.2f\" % df_NSE[\"NSE\"].max():>9}\\nMin: {\"%.2f\" % df_NSE[\"NSE\"].min():>10}',\n",
    "#          transform=plt.gca().transAxes, bbox=dict(facecolor='white', alpha=0.5))\n",
    "# min = loss_testing_prevah['PREVAH_NSE'].min()\n",
    "# mean = loss_testing_prevah['PREVAH_NSE'].mean()\n",
    "# max = loss_testing_prevah['PREVAH_NSE'].max()\n",
    "# med = loss_testing_prevah['PREVAH_NSE'].median()\n",
    "# plt.text(0.35, 0.6, f'PREVAH:\\nMean: {\"%.2f\" %mean}\\nMedian: {\"%.2f\" %med}\\nMax: {\"%.2f\" %max}\\nMin: {\"%.2f\" %min}',\n",
    "#          transform=plt.gca().transAxes, bbox=dict(facecolor='white', alpha=0.5))\n",
    "\n",
    "# Format plot\n",
    "plt.xlim([0.2, 1])\n",
    "plt.xlabel('NSE', fontsize=12, fontweight='bold')\n",
    "plt.ylabel('Cumulative Frequency', fontsize=12, fontweight='bold')\n",
    "#plt.title('Comparison of Performance', fontsize=16, fontweight='bold')\n",
    "plt.xticks([0.2, 0.5, 0.792, 0.822, 0.845, 1.0], rotation=90)\n",
    "plt.yticks(ticks=[0.25, 0.5, 0.75, 1])\n",
    "plt.legend(loc='best')\n",
    "plt.annotate(\"0.806\", [0.806, 0.0], xytext=[0.850, 0.1], xycoords='data', textcoords=None, arrowprops={'width': 0.2, 'headwidth': 0.2})\n",
    "plt.savefig(path_save_folder+'/NSE_LSTM_CDF_notitle3.png', bbox_inches='tight', pad_inches=0)\n",
    "plt.show()"
   ]
  },
  {
   "cell_type": "code",
   "execution_count": 17,
   "metadata": {},
   "outputs": [
    {
     "data": {
      "image/png": "[encoded data removed]",
      "text/plain": [
       "<Figure size 2000x500 with 1 Axes>"
      ]
     },
     "metadata": {},
     "output_type": "display_data"
    }
   ],
   "source": [
    "# Plot simulated and observed discharges\n",
    "basin_to_analyze = \"2368\"\n",
    "\n",
    "plt.plot(inspect_results[basin_to_analyze][\"y_obs\"], label=\"observed\", color=color_palette[\"observed\"])\n",
    "plt.plot(inspect_results[basin_to_analyze][\"y_sim\"], label=\"simulated\", alpha=0.5, color=color_palette[\"simulated\"])\n",
    "\n",
    "# Format plot\n",
    "plt.xlabel(\"Day\", fontsize=12, fontweight=\"bold\")\n",
    "plt.ylabel(\"Discharge [mm/d]\", fontsize=12, fontweight=\"bold\")\n",
    "plt.title(\"Discharge comparison\", fontsize=16, fontweight=\"bold\")\n",
    "plt.tick_params(axis=\"both\", which=\"major\", labelsize=12)\n",
    "plt.legend(loc=\"upper right\",fontsize=12)\n",
    "plt.show()\n",
    "#plt.savefig(save_folder+\"/Model_Comparison.png\", bbox_inches=\"tight\", pad_inches=0)"
   ]
  },
  {
   "cell_type": "code",
   "execution_count": 18,
   "metadata": {},
   "outputs": [
    {
     "ename": "KeyError",
     "evalue": "'2368'",
     "output_type": "error",
     "traceback": [
      "\u001b[0;31m---------------------------------------------------------------------------\u001b[0m",
      "\u001b[0;31mKeyError\u001b[0m                                  Traceback (most recent call last)",
      "Cell \u001b[0;32mIn[18], line 1\u001b[0m\n\u001b[0;32m----> 1\u001b[0m inspectmodel_states \u001b[38;5;241m=\u001b[39m \u001b[43minspect_results_states\u001b[49m\u001b[43m[\u001b[49m\u001b[43mbasin_to_analyze\u001b[49m\u001b[43m]\u001b[49m\n\u001b[1;32m      2\u001b[0m weights_linear, _ \u001b[38;5;241m=\u001b[39m lstm_model\u001b[38;5;241m.\u001b[39mlinear\u001b[38;5;241m.\u001b[39mstate_dict()\u001b[38;5;241m.\u001b[39mitems()\n\u001b[1;32m      3\u001b[0m dataset_to_analyze \u001b[38;5;241m=\u001b[39m testing_dataset[basin_to_analyze]\n",
      "\u001b[0;31mKeyError\u001b[0m: '2368'"
     ]
    }
   ],
   "source": [
    "inspectmodel_states = inspect_results_states[basin_to_analyze]\n",
    "weights_linear, _ = lstm_model.linear.state_dict().items()\n",
    "dataset_to_analyze = testing_dataset[basin_to_analyze]\n",
    "\n",
    "f, ax = plt.subplots(7, 2, figsize=(20, 30), sharex=True)\n",
    "idx = 850\n",
    "sl = model_hyper_parameters[\"seq_length\"]\n",
    "\n",
    "# observed input feature values\n",
    "ax[0,0].set_title('Input values')\n",
    "x_d_ = dataset_to_analyze.sequence_data[basin_to_analyze]['x_d'][:, 0:5]*dataset_to_analyze.scaler['x_d_std']+dataset_to_analyze.scaler['x_d_mean']\n",
    "ax[0,0].plot(x_d_[idx:idx+sl, 0], label='precipitation')  \n",
    "ax[0,0].plot(x_d_[idx:idx+sl, 1], label='temp_min')  \n",
    "ax[0,0].plot(x_d_[idx:idx+sl, 2], label='temp_max')  \n",
    "# ax[0,0].plot(x_d_[idx:idx+sl, 3], label='sun_dur')  \n",
    "ax[0,0].plot(x_d_[idx:idx+sl, 4], label='swe')  \n",
    "ax[0,0].legend()\n",
    "\n",
    "ax[0,1].set_title('Simulated and Observed Discharge') \n",
    "y_obs = dataset_to_analyze.sequence_data[basin_to_analyze]['y_obs'][:]\n",
    "ax[0,1].plot(y_obs[idx:idx+sl], label='observed discharge')\n",
    "ax[0,1].plot(inspectmodel_states[0]['y_hat'][idx-sl:idx, :].numpy(), label='simulated_discharge')\n",
    "ax[0,1].legend()\n",
    "\n",
    "ax[1,0].set_title('h_t')\n",
    "for l in range(inspectmodel_states[0]['h_t'].shape[2]):\n",
    "    ax[1,0].plot(abs(inspectmodel_states[0]['h_t'][idx, :, l]).numpy(), color='blue', linewidth=abs(weights_linear[1][0][l].cpu().numpy()))\n",
    "\n",
    "ax[1,1].set_title('c_t / n_t')\n",
    "c_hat = inspectmodel_states[0]['c_t'][idx, :, :] / inspectmodel_states[0]['n_t'][idx, :, :]\n",
    "for l in range(inspectmodel_states[0]['c_t'].shape[2]):\n",
    "    ax[1,1].plot(c_hat[:, l].numpy(), color='blue', linewidth=abs(weights_linear[1][0][l].cpu().numpy()))\n",
    "# ax[1,1].set_xlim([20, 30])\n",
    "\n",
    "ax[2,0].set_title('c_t')\n",
    "for l in range(inspectmodel_states[0]['c_t'].shape[2]):\n",
    "    ax[2,0].plot(inspectmodel_states[0]['c_t'][idx, :, l].numpy(), color='blue', linewidth=abs(weights_linear[1][0][l].cpu().numpy()))\n",
    "\n",
    "ax[2,1].set_title('sigmoid o_tilda')\n",
    "for l in range(inspectmodel_states[0]['i_tilda'].shape[2]):\n",
    "    ax[2,1].plot(torch.sigmoid(inspectmodel_states[0]['o_tilda'][idx, :, l]).numpy(), color='blue', linewidth=abs(weights_linear[1][0][l].cpu().numpy()))\n",
    "\n",
    "ax[3,0].set_title('n_t')\n",
    "for l in range(inspectmodel_states[0]['n_t'].shape[2]):\n",
    "    ax[3,0].plot(inspectmodel_states[0]['n_t'][idx, :, l].numpy(), color='blue', linewidth=abs(weights_linear[1][0][l].cpu().numpy()))\n",
    "# ax[2,1].set_ylim([-10, 10])\n",
    "\n",
    "ax[3,1].set_title('m_t')\n",
    "for l in range(inspectmodel_states[0]['m_t'].shape[2]):\n",
    "    ax[3,1].plot(inspectmodel_states[0]['m_t'][idx, :, l].numpy(), linewidth=abs(weights_linear[1][0][l].cpu().numpy()))\n",
    "\n",
    "ax[4,0].set_title('i_prime')\n",
    "for l in range(inspectmodel_states[0]['i_prime'].shape[2]):\n",
    "    ax[4,0].plot(inspectmodel_states[0]['i_prime'][idx, :, l].numpy(), linewidth=abs(weights_linear[1][0][l].cpu().numpy()))\n",
    "\n",
    "ax[4,1].set_title('f_prime')\n",
    "for l in range(inspectmodel_states[0]['f_prime'].shape[2]):\n",
    "    ax[4,1].plot(inspectmodel_states[0]['f_prime'][idx, :, l].numpy(), linewidth=abs(weights_linear[1][0][l].cpu().numpy()))\n",
    "\n",
    "ax[5,0].set_title('i_tilda')\n",
    "for l in range(inspectmodel_states[0]['i_tilda'].shape[2]):\n",
    "    ax[5,0].plot(inspectmodel_states[0]['i_tilda'][idx, :, l].numpy(), linewidth=abs(weights_linear[1][0][l].cpu().numpy()))\n",
    "\n",
    "ax[5,1].set_title('f_tilda')\n",
    "for l in range(inspectmodel_states[0]['f_tilda'].shape[2]):\n",
    "    ax[5,1].plot(inspectmodel_states[0]['f_tilda'][idx, :, l].numpy(), linewidth=abs(weights_linear[1][0][l].cpu().numpy()))\n",
    "\n",
    "ax[6,0].set_title('o_tilda')\n",
    "for l in range(inspectmodel_states[0]['o_tilda'].shape[2]):\n",
    "    ax[6,0].plot(inspectmodel_states[0]['o_tilda'][idx, :, l].numpy(), linewidth=abs(weights_linear[1][0][l].cpu().numpy()))\n",
    "\n",
    "ax[6,1].set_title('z_tilda')\n",
    "for l in range(inspectmodel_states[0]['z_tilda'].shape[2]):\n",
    "    ax[6,1].plot(inspectmodel_states[0]['z_tilda'][idx, :, l].numpy(), linewidth=abs(weights_linear[1][0][l].cpu().numpy()))\n",
    "\n",
    "plt.tight_layout()"
   ]
  },
  {
   "cell_type": "code",
   "execution_count": null,
   "metadata": {},
   "outputs": [],
   "source": []
  }
 ],
 "metadata": {
  "environment": {
   "kernel": "python3",
   "name": "pytorch-gpu.2-0.m111",
   "type": "gcloud",
   "uri": "gcr.io/deeplearning-platform-release/pytorch-gpu.2-0:m111"
  },
  "kernelspec": {
   "display_name": "Python 3 (ipykernel)",
   "language": "python",
   "name": "python3"
  },
  "language_info": {
   "codemirror_mode": {
    "name": "ipython",
    "version": 3
   },
   "file_extension": ".py",
   "mimetype": "text/x-python",
   "name": "python",
   "nbconvert_exporter": "python",
   "pygments_lexer": "ipython3",
   "version": "3.9.16"
  },
  "vscode": {
   "interpreter": {
    "hash": "42b7dc197ee81dd2f6541889b0e14556b882d218c1e7c97db94bc0f7b191f034"
   }
  }
 },
 "nbformat": 4,
 "nbformat_minor": 4
}
